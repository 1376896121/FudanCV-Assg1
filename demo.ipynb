{
 "cells": [
  {
   "cell_type": "code",
   "execution_count": 1,
   "metadata": {},
   "outputs": [],
   "source": [
    "from loader import *\n",
    "import os\n",
    "import matplotlib.pyplot as plt\n",
    "\n",
    "def train(net, loss_fn, train_file, batch_size, optimizer, load_file, save_path, epoch_num=1, retrain=False):\n",
    "    X, Y = load_fashion(train_file, kind=\"train\")\n",
    "    # X, Y = load_MNIST(train_file, transform=True)\n",
    "    data_size = X.shape[0]\n",
    "    # 划分训练集和验证集\n",
    "    split_index = int(data_size * 0.9)\n",
    "    X_train, Y_train = X[:split_index], Y[:split_index]\n",
    "    X_val, Y_val = X[split_index:], Y[split_index:]\n",
    "    if not retrain and os.path.isfile(load_file): load(net.parameters, load_file)\n",
    "\n",
    "    val_accuracies = []\n",
    "    train_losses = []\n",
    "    val_losses = []\n",
    "    for epoch in range(epoch_num):\n",
    "        i = 0\n",
    "        while i <= split_index - batch_size:\n",
    "            x = X_train[i:i+batch_size]\n",
    "            y = Y_train[i:i+batch_size]\n",
    "            i += batch_size\n",
    "\n",
    "            output = net.forward(x)\n",
    "            batch_acc, batch_loss = loss_fn(output, y)\n",
    "            eta = loss_fn.gradient()\n",
    "            net.backward(eta)\n",
    "            #实现学习率下降\n",
    "            optimizer.update(epoch)\n",
    "\n",
    "            if i % (batch_size * 100) == 0:\n",
    "                print(\"epoch: %d, batch: %5d, batch acc: %2.2f, batch loss: %.2f\" % \\\n",
    "                    (epoch + 1, i, batch_acc*100, batch_loss))\n",
    "            \n",
    "        _, train_loss = loss_fn(net.forward(X_train), Y_train)\n",
    "        _, val_loss = loss_fn(net.forward(X_val), Y_val)\n",
    "        train_losses.append(train_loss)\n",
    "        val_losses.append(val_loss)\n",
    "        val_acc = evaluate(net, X_val, Y_val)\n",
    "        val_accuracies.append(val_acc)\n",
    "        print(\"epoch: %d, training loss: %.3f, validation loss: %.3f, validation accuracy: %.3f\" % \\\n",
    "            (epoch + 1, train_loss, val_loss, val_acc))\n",
    "        \n",
    "    if save_path is not None: save(net.parameters, save_path)\n",
    "\n",
    "    plt.plot(range(1, epoch_num + 1), train_losses, label='Training Loss')\n",
    "    plt.plot(range(1, epoch_num + 1), val_losses, label='Validation Loss')\n",
    "    plt.xlabel('Epoch')\n",
    "    plt.ylabel('Loss')\n",
    "    plt.title('Training and Validation Losses')\n",
    "    plt.legend()\n",
    "    plt.show()\n",
    "    \n",
    "    plt.plot(range(1, epoch_num + 1), val_accuracies)\n",
    "    plt.xlabel('Epoch')\n",
    "    plt.ylabel('Validation Accuracy')\n",
    "    plt.title('Validation Accuracy vs. Epoch')\n",
    "    plt.show()\n",
    "\n",
    "def test(net, load_file, test_file):\n",
    "    X_test, Y_test = load_fashion(test_file, kind=\"t10k\")\n",
    "    if os.path.isfile(load_file):load(net.parameters, load_file)\n",
    "    accuracy, acc_labels = evaluate(net, X_test, Y_test, istest=True)\n",
    "    return accuracy, acc_labels\n",
    "\n",
    "def evaluate(net, X, Y, istest=False):\n",
    "    output = net.forward(X)\n",
    "    pred = np.argmax(output, axis=1)\n",
    "    Y = np.argmax(Y, axis=1)\n",
    "    correct = np.sum(pred == Y)\n",
    "    accuracy = correct / len(Y)\n",
    "    if istest == True:\n",
    "        corr_labels = [0] *10\n",
    "        tot_labels = [0] *10\n",
    "        acc_labels = []\n",
    "        for i in range(len(Y)):\n",
    "            tot_labels[Y[i]] += 1\n",
    "            if Y[i] == pred[i]:\n",
    "                corr_labels[Y[i]] += 1\n",
    "        for i in range(10):\n",
    "            acc_labels.append(corr_labels[i]/tot_labels[i])\n",
    "        return accuracy, acc_labels\n",
    "\n",
    "    return accuracy"
   ]
  },
  {
   "cell_type": "markdown",
   "metadata": {},
   "source": [
    "### Training"
   ]
  },
  {
   "cell_type": "code",
   "execution_count": 2,
   "metadata": {},
   "outputs": [
    {
     "name": "stderr",
     "output_type": "stream",
     "text": [
      "e:\\计算机视觉\\Assg1\\Loss.py:26: RuntimeWarning: divide by zero encountered in log\n",
      "  loss = -1 * np.einsum('ij,ij->', y, np.log(a), optimize=True) / y.shape[0]\n"
     ]
    },
    {
     "name": "stdout",
     "output_type": "stream",
     "text": [
      "epoch: 1, batch:  6400, batch acc: 73.44, batch loss: nan\n",
      "epoch: 1, batch: 12800, batch acc: 71.88, batch loss: nan\n",
      "epoch: 1, batch: 19200, batch acc: 78.12, batch loss: nan\n",
      "epoch: 1, batch: 25600, batch acc: 75.00, batch loss: nan\n",
      "epoch: 1, batch: 32000, batch acc: 87.50, batch loss: nan\n",
      "epoch: 1, batch: 38400, batch acc: 81.25, batch loss: nan\n",
      "epoch: 1, batch: 44800, batch acc: 73.44, batch loss: nan\n",
      "epoch: 1, batch: 51200, batch acc: 71.88, batch loss: 5.51\n",
      "epoch: 1, training loss: nan, validation loss: nan, validation accuracy: 0.808\n"
     ]
    },
    {
     "ename": "KeyboardInterrupt",
     "evalue": "",
     "output_type": "error",
     "traceback": [
      "\u001b[1;31m---------------------------------------------------------------------------\u001b[0m",
      "\u001b[1;31mKeyboardInterrupt\u001b[0m                         Traceback (most recent call last)",
      "Cell \u001b[1;32mIn[2], line 36\u001b[0m\n\u001b[0;32m     34\u001b[0m train_file \u001b[38;5;241m=\u001b[39m \u001b[38;5;124m'\u001b[39m\u001b[38;5;124mFASHION\u001b[39m\u001b[38;5;124m'\u001b[39m\n\u001b[0;32m     35\u001b[0m param_file \u001b[38;5;241m=\u001b[39m \u001b[38;5;124m'\u001b[39m\u001b[38;5;124mFASHION/param.npz\u001b[39m\u001b[38;5;124m'\u001b[39m\n\u001b[1;32m---> 36\u001b[0m \u001b[43mtrain\u001b[49m\u001b[43m(\u001b[49m\u001b[43mnet\u001b[49m\u001b[43m,\u001b[49m\u001b[43m \u001b[49m\u001b[43mloss_fn\u001b[49m\u001b[43m,\u001b[49m\u001b[43m \u001b[49m\u001b[43mtrain_file\u001b[49m\u001b[43m,\u001b[49m\u001b[43m \u001b[49m\u001b[43mbatch_size\u001b[49m\u001b[43m,\u001b[49m\u001b[43m \u001b[49m\u001b[43moptimizer\u001b[49m\u001b[43m,\u001b[49m\u001b[43m \u001b[49m\u001b[38;5;28;43;01mNone\u001b[39;49;00m\u001b[43m,\u001b[49m\u001b[43m \u001b[49m\u001b[43mparam_file\u001b[49m\u001b[43m,\u001b[49m\u001b[43m \u001b[49m\u001b[43mepoch_num\u001b[49m\u001b[38;5;241;43m=\u001b[39;49m\u001b[38;5;241;43m200\u001b[39;49m\u001b[43m,\u001b[49m\u001b[43m \u001b[49m\u001b[43mretrain\u001b[49m\u001b[38;5;241;43m=\u001b[39;49m\u001b[38;5;28;43;01mTrue\u001b[39;49;00m\u001b[43m)\u001b[49m\n",
      "Cell \u001b[1;32mIn[1], line 28\u001b[0m, in \u001b[0;36mtrain\u001b[1;34m(net, loss_fn, train_file, batch_size, optimizer, load_file, save_path, epoch_num, retrain)\u001b[0m\n\u001b[0;32m     26\u001b[0m batch_acc, batch_loss \u001b[38;5;241m=\u001b[39m loss_fn(output, y)\n\u001b[0;32m     27\u001b[0m eta \u001b[38;5;241m=\u001b[39m loss_fn\u001b[38;5;241m.\u001b[39mgradient()\n\u001b[1;32m---> 28\u001b[0m \u001b[43mnet\u001b[49m\u001b[38;5;241;43m.\u001b[39;49m\u001b[43mbackward\u001b[49m\u001b[43m(\u001b[49m\u001b[43meta\u001b[49m\u001b[43m)\u001b[49m\n\u001b[0;32m     29\u001b[0m \u001b[38;5;66;03m#实现学习率下降\u001b[39;00m\n\u001b[0;32m     30\u001b[0m optimizer\u001b[38;5;241m.\u001b[39mupdate(epoch)\n",
      "File \u001b[1;32me:\\计算机视觉\\Assg1\\net.py:20\u001b[0m, in \u001b[0;36mNet.backward\u001b[1;34m(self, eta)\u001b[0m\n\u001b[0;32m     18\u001b[0m \u001b[38;5;28;01mdef\u001b[39;00m \u001b[38;5;21mbackward\u001b[39m(\u001b[38;5;28mself\u001b[39m, eta):\n\u001b[0;32m     19\u001b[0m     \u001b[38;5;28;01mfor\u001b[39;00m layer \u001b[38;5;129;01min\u001b[39;00m \u001b[38;5;28mself\u001b[39m\u001b[38;5;241m.\u001b[39mlayers[::\u001b[38;5;241m-\u001b[39m\u001b[38;5;241m1\u001b[39m]:\n\u001b[1;32m---> 20\u001b[0m         eta \u001b[38;5;241m=\u001b[39m \u001b[43mlayer\u001b[49m\u001b[38;5;241;43m.\u001b[39;49m\u001b[43mbackward\u001b[49m\u001b[43m(\u001b[49m\u001b[43meta\u001b[49m\u001b[43m)\u001b[49m\n\u001b[0;32m     21\u001b[0m     \u001b[38;5;28;01mreturn\u001b[39;00m eta\n",
      "File \u001b[1;32me:\\计算机视觉\\Assg1\\layers.py:36\u001b[0m, in \u001b[0;36mLinear.backward\u001b[1;34m(self, eta)\u001b[0m\n\u001b[0;32m     34\u001b[0m batch_size \u001b[38;5;241m=\u001b[39m eta\u001b[38;5;241m.\u001b[39mshape[\u001b[38;5;241m0\u001b[39m]\n\u001b[0;32m     35\u001b[0m \u001b[38;5;66;03m# 计算权重梯度并加上L2正则化项\u001b[39;00m\n\u001b[1;32m---> 36\u001b[0m \u001b[38;5;28mself\u001b[39m\u001b[38;5;241m.\u001b[39mW\u001b[38;5;241m.\u001b[39mgrad \u001b[38;5;241m=\u001b[39m \u001b[43mnp\u001b[49m\u001b[38;5;241;43m.\u001b[39;49m\u001b[43mdot\u001b[49m\u001b[43m(\u001b[49m\u001b[38;5;28;43mself\u001b[39;49m\u001b[38;5;241;43m.\u001b[39;49m\u001b[43mx\u001b[49m\u001b[38;5;241;43m.\u001b[39;49m\u001b[43mT\u001b[49m\u001b[43m,\u001b[49m\u001b[43m \u001b[49m\u001b[43meta\u001b[49m\u001b[43m)\u001b[49m \u001b[38;5;241m/\u001b[39m batch_size \u001b[38;5;241m+\u001b[39m \u001b[38;5;28mself\u001b[39m\u001b[38;5;241m.\u001b[39mlambda_reg \u001b[38;5;241m*\u001b[39m \u001b[38;5;28mself\u001b[39m\u001b[38;5;241m.\u001b[39mW\u001b[38;5;241m.\u001b[39mdata\n\u001b[0;32m     37\u001b[0m \u001b[38;5;28;01mif\u001b[39;00m \u001b[38;5;28mself\u001b[39m\u001b[38;5;241m.\u001b[39mb \u001b[38;5;129;01mis\u001b[39;00m \u001b[38;5;129;01mnot\u001b[39;00m \u001b[38;5;28;01mNone\u001b[39;00m: \n\u001b[0;32m     38\u001b[0m     \u001b[38;5;28mself\u001b[39m\u001b[38;5;241m.\u001b[39mb\u001b[38;5;241m.\u001b[39mgrad \u001b[38;5;241m=\u001b[39m np\u001b[38;5;241m.\u001b[39msum(eta, axis\u001b[38;5;241m=\u001b[39m\u001b[38;5;241m0\u001b[39m) \u001b[38;5;241m/\u001b[39m batch_size\n",
      "File \u001b[1;32m<__array_function__ internals>:180\u001b[0m, in \u001b[0;36mdot\u001b[1;34m(*args, **kwargs)\u001b[0m\n",
      "\u001b[1;31mKeyboardInterrupt\u001b[0m: "
     ]
    }
   ],
   "source": [
    "from Loss import *\n",
    "from net import *\n",
    "from optim import *\n",
    "from layers import *\n",
    "\n",
    "if __name__ == \"__main__\": \n",
    "    # layers = [\n",
    "    #     {'type': 'batchnorm', 'shape': 784, 'requires_grad': False, 'affine': False},\n",
    "    #     {'type': 'linear', 'shape': (784, 400)},\n",
    "    #     {'type': 'batchnorm', 'shape': 400},\n",
    "    #     {'type': 'relu'},\n",
    "    #     {'type': 'linear', 'shape': (400, 100)},\n",
    "    #     {'type': 'batchnorm', 'shape': 100},\n",
    "    #     {'type': 'relu'},\n",
    "    #     {'type': 'linear', 'shape': (100, 10)}\n",
    "    # ]\n",
    "    # 可自定义隐藏层大小，激活函数类型, 正则化强度\n",
    "    hidden_size = 256\n",
    "    norm_strength = 0.1\n",
    "    layers = [\n",
    "        # {'type': 'batchnorm', 'shape': 784, 'requires_grad': False, 'affine': False},\n",
    "        {'type': 'linear', 'shape': (784, hidden_size), 'lambda_reg': norm_strength},\n",
    "        # {'type': 'batchnorm', 'shape': hidden_size},\n",
    "        {'type': 'leakyrelu'},\n",
    "        {'type': 'linear', 'shape': (hidden_size, 10)}\n",
    "    ]\n",
    "    loss_fn = CrossEntropyLoss()\n",
    "    net = Net(layers)\n",
    "    lr = 0.001\n",
    "    batch_size = 64\n",
    "    optimizer = SGD(net.parameters, lr)\n",
    "    # train_file = 'MNIST/trainset.npz'\n",
    "    # param_file = 'MNIST/param.npz'\n",
    "    train_file = 'FASHION'\n",
    "    param_file = 'FASHION/param.npz'\n",
    "    train(net, loss_fn, train_file, batch_size, optimizer, None, param_file, epoch_num=200, retrain=True)"
   ]
  },
  {
   "cell_type": "markdown",
   "metadata": {},
   "source": [
    "### Testing"
   ]
  },
  {
   "cell_type": "code",
   "execution_count": null,
   "metadata": {},
   "outputs": [
    {
     "name": "stdout",
     "output_type": "stream",
     "text": [
      "Test accuracy is: 0.884\n",
      "Accuracy for label 1: 0.842\n",
      "Accuracy for label 2: 0.967\n",
      "Accuracy for label 3: 0.803\n",
      "Accuracy for label 4: 0.891\n",
      "Accuracy for label 5: 0.827\n",
      "Accuracy for label 6: 0.958\n",
      "Accuracy for label 7: 0.683\n",
      "Accuracy for label 8: 0.954\n",
      "Accuracy for label 9: 0.965\n",
      "Accuracy for label 10: 0.952\n"
     ]
    }
   ],
   "source": [
    "param_file = 'FASHION/param.npz'\n",
    "test_file = 'FASHION'\n",
    "acc, acc_label = test(net, param_file, test_file)\n",
    "print(\"Test accuracy is: %2.3f\"%acc)\n",
    "for i in range(10):\n",
    "    print(\"Accuracy for label %d: %.3f\"%(i+1, acc_label[i]))"
   ]
  },
  {
   "cell_type": "markdown",
   "metadata": {},
   "source": [
    "### Visualizing"
   ]
  },
  {
   "cell_type": "code",
   "execution_count": null,
   "metadata": {},
   "outputs": [
    {
     "data": {
      "image/png": "[encoded data removed]",
      "text/plain": [
       "<Figure size 1000x500 with 10 Axes>"
      ]
     },
     "metadata": {},
     "output_type": "display_data"
    }
   ],
   "source": [
    "import matplotlib.pyplot as plt\n",
    "\n",
    "def visualize_weights(weights):\n",
    "    plt.figure(figsize=(10, 5))\n",
    "    for i in range(weights.shape[1]):\n",
    "        plt.subplot(2, 5, i + 1)\n",
    "        plt.imshow(weights[:, i].reshape(16, 16), cmap='gray')\n",
    "        plt.axis('off')\n",
    "    plt.show()\n",
    "\n",
    "# 加载训练好的模型参数\n",
    "param_file = 'FASHION/param.npz'\n",
    "load(net.parameters, param_file)\n",
    "\n",
    "# 获取线性层的权重\n",
    "linear_weights = net.layers[2].W.data\n",
    "\n",
    "# 可视化权重\n",
    "visualize_weights(linear_weights)\n"
   ]
  }
 ],
 "metadata": {
  "kernelspec": {
   "display_name": "pytorch",
   "language": "python",
   "name": "python3"
  },
  "language_info": {
   "codemirror_mode": {
    "name": "ipython",
    "version": 3
   },
   "file_extension": ".py",
   "mimetype": "text/x-python",
   "name": "python",
   "nbconvert_exporter": "python",
   "pygments_lexer": "ipython3",
   "version": "3.9.17"
  }
 },
 "nbformat": 4,
 "nbformat_minor": 2
}
